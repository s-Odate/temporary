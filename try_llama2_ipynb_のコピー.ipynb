{
  "nbformat": 4,
  "nbformat_minor": 0,
  "metadata": {
    "colab": {
      "provenance": [],
      "gpuType": "T4",
      "authorship_tag": "ABX9TyOJ6pcyROp98gsrRPNFjGfI",
      "include_colab_link": true
    },
    "kernelspec": {
      "name": "python3",
      "display_name": "Python 3"
    },
    "language_info": {
      "name": "python"
    },
    "accelerator": "GPU"
  },
  "cells": [
    {
      "cell_type": "markdown",
      "metadata": {
        "id": "view-in-github",
        "colab_type": "text"
      },
      "source": [
        "<a href=\"https://colab.research.google.com/github/s-Odate/temporary/blob/main/try_llama2_ipynb_%E3%81%AE%E3%82%B3%E3%83%94%E3%83%BC.ipynb\" target=\"_parent\"><img src=\"https://colab.research.google.com/assets/colab-badge.svg\" alt=\"Open In Colab\"/></a>"
      ]
    },
    {
      "cell_type": "code",
      "execution_count": null,
      "metadata": {
        "colab": {
          "base_uri": "https://localhost:8080/"
        },
        "id": "HmMeSTAJsBSQ",
        "outputId": "b9b3f981-3ac7-4ebc-8205-ed6846405f33"
      },
      "outputs": [
        {
          "output_type": "stream",
          "name": "stdout",
          "text": [
            "--2023-09-22 06:53:19--  https://huggingface.co/TheBloke/Llama-2-7b-Chat-GGUF/resolve/main/llama-2-7b-chat.Q4_K_M.gguf\n",
            "Resolving huggingface.co (huggingface.co)... 18.164.174.17, 18.164.174.55, 18.164.174.118, ...\n",
            "Connecting to huggingface.co (huggingface.co)|18.164.174.17|:443... connected.\n",
            "HTTP request sent, awaiting response... 302 Found\n",
            "Location: https://cdn-lfs.huggingface.co/repos/b0/ca/b0cae82fd4b3a362cab01d17953c45edac67d1c2dfb9fbb9e69c80c32dc2012e/08a5566d61d7cb6b420c3e4387a39e0078e1f2fe5f055f3a03887385304d4bfa?response-content-disposition=attachment%3B+filename*%3DUTF-8%27%27llama-2-7b-chat.Q4_K_M.gguf%3B+filename%3D%22llama-2-7b-chat.Q4_K_M.gguf%22%3B&Expires=1695623843&Policy=eyJTdGF0ZW1lbnQiOlt7IkNvbmRpdGlvbiI6eyJEYXRlTGVzc1RoYW4iOnsiQVdTOkVwb2NoVGltZSI6MTY5NTYyMzg0M319LCJSZXNvdXJjZSI6Imh0dHBzOi8vY2RuLWxmcy5odWdnaW5nZmFjZS5jby9yZXBvcy9iMC9jYS9iMGNhZTgyZmQ0YjNhMzYyY2FiMDFkMTc5NTNjNDVlZGFjNjdkMWMyZGZiOWZiYjllNjljODBjMzJkYzIwMTJlLzA4YTU1NjZkNjFkN2NiNmI0MjBjM2U0Mzg3YTM5ZTAwNzhlMWYyZmU1ZjA1NWYzYTAzODg3Mzg1MzA0ZDRiZmE%7EcmVzcG9uc2UtY29udGVudC1kaXNwb3NpdGlvbj0qIn1dfQ__&Signature=lZNKKZADlPfdcHh%7EhSjcwG2C9dm0fRwC-b5A7Wd%7EjI1Hh1JvNxNEjlGvW7If-6qCpYAc4xrc8fM-nQYfBFtilrwwJs%7E%7ETpXeEMJTMNTIeDDwjj66LU%7E7fPqQK7It0BX2tt5qu16XX0b4Wb5sdqByQHKwppbqc70y3O0RHAiv7awk5HL8P2zWIe8wDuTM9OyvKVFn8OPgPUGv1FVXTT0pe5LTTneet8MVsOqRvZ9ssrnJuun2AQTk4bA9brISkk9ZVRFeIZHbL3jicb19SLDSpJIk0-BQ-WUWfzvRWmQIBD9AwPBLh4t9m7HeLfizO6ECepNDfFjFYVQT7WrbYyvXow__&Key-Pair-Id=KVTP0A1DKRTAX [following]\n",
            "--2023-09-22 06:53:19--  https://cdn-lfs.huggingface.co/repos/b0/ca/b0cae82fd4b3a362cab01d17953c45edac67d1c2dfb9fbb9e69c80c32dc2012e/08a5566d61d7cb6b420c3e4387a39e0078e1f2fe5f055f3a03887385304d4bfa?response-content-disposition=attachment%3B+filename*%3DUTF-8%27%27llama-2-7b-chat.Q4_K_M.gguf%3B+filename%3D%22llama-2-7b-chat.Q4_K_M.gguf%22%3B&Expires=1695623843&Policy=eyJTdGF0ZW1lbnQiOlt7IkNvbmRpdGlvbiI6eyJEYXRlTGVzc1RoYW4iOnsiQVdTOkVwb2NoVGltZSI6MTY5NTYyMzg0M319LCJSZXNvdXJjZSI6Imh0dHBzOi8vY2RuLWxmcy5odWdnaW5nZmFjZS5jby9yZXBvcy9iMC9jYS9iMGNhZTgyZmQ0YjNhMzYyY2FiMDFkMTc5NTNjNDVlZGFjNjdkMWMyZGZiOWZiYjllNjljODBjMzJkYzIwMTJlLzA4YTU1NjZkNjFkN2NiNmI0MjBjM2U0Mzg3YTM5ZTAwNzhlMWYyZmU1ZjA1NWYzYTAzODg3Mzg1MzA0ZDRiZmE%7EcmVzcG9uc2UtY29udGVudC1kaXNwb3NpdGlvbj0qIn1dfQ__&Signature=lZNKKZADlPfdcHh%7EhSjcwG2C9dm0fRwC-b5A7Wd%7EjI1Hh1JvNxNEjlGvW7If-6qCpYAc4xrc8fM-nQYfBFtilrwwJs%7E%7ETpXeEMJTMNTIeDDwjj66LU%7E7fPqQK7It0BX2tt5qu16XX0b4Wb5sdqByQHKwppbqc70y3O0RHAiv7awk5HL8P2zWIe8wDuTM9OyvKVFn8OPgPUGv1FVXTT0pe5LTTneet8MVsOqRvZ9ssrnJuun2AQTk4bA9brISkk9ZVRFeIZHbL3jicb19SLDSpJIk0-BQ-WUWfzvRWmQIBD9AwPBLh4t9m7HeLfizO6ECepNDfFjFYVQT7WrbYyvXow__&Key-Pair-Id=KVTP0A1DKRTAX\n",
            "Resolving cdn-lfs.huggingface.co (cdn-lfs.huggingface.co)... 18.65.25.83, 18.65.25.124, 18.65.25.40, ...\n",
            "Connecting to cdn-lfs.huggingface.co (cdn-lfs.huggingface.co)|18.65.25.83|:443... connected.\n",
            "HTTP request sent, awaiting response... 200 OK\n",
            "Length: 4081004224 (3.8G) [binary/octet-stream]\n",
            "Saving to: ‘llama-2-7b-chat.Q4_K_M.gguf’\n",
            "\n",
            "llama-2-7b-chat.Q4_ 100%[===================>]   3.80G  61.7MB/s    in 36s     \n",
            "\n",
            "2023-09-22 06:53:55 (107 MB/s) - ‘llama-2-7b-chat.Q4_K_M.gguf’ saved [4081004224/4081004224]\n",
            "\n"
          ]
        }
      ],
      "source": [
        "!wget https://huggingface.co/TheBloke/Llama-2-7b-Chat-GGUF/resolve/main/llama-2-7b-chat.Q4_K_M.gguf"
      ]
    },
    {
      "cell_type": "code",
      "source": [
        "%%capture\n",
        "!CMAKE_ARGS=\"-DLLAMA_CUBLAS=on\" FORCE_CMAKE=1 pip install llama-cpp-python"
      ],
      "metadata": {
        "id": "BrIMc5sjuP8l"
      },
      "execution_count": null,
      "outputs": []
    },
    {
      "cell_type": "code",
      "source": [
        "import llama_cpp\n",
        "import ctypes"
      ],
      "metadata": {
        "id": "BbKxFQ4vu_OD"
      },
      "execution_count": null,
      "outputs": []
    },
    {
      "cell_type": "code",
      "source": [
        "llm =llama_cpp.Llama(model_path=\"/content/llama-2-7b-chat.Q4_K_M.gguf\", n_gpu_layers=32)"
      ],
      "metadata": {
        "colab": {
          "base_uri": "https://localhost:8080/"
        },
        "id": "sjDy1gnNvfiU",
        "outputId": "2fc48c40-dac9-47e7-fb4c-b083d0d029c1"
      },
      "execution_count": null,
      "outputs": [
        {
          "output_type": "stream",
          "name": "stderr",
          "text": [
            "AVX = 1 | AVX2 = 1 | AVX512 = 0 | AVX512_VBMI = 0 | AVX512_VNNI = 0 | FMA = 1 | NEON = 0 | ARM_FMA = 0 | F16C = 1 | FP16_VA = 0 | WASM_SIMD = 0 | BLAS = 1 | SSE3 = 1 | SSSE3 = 1 | VSX = 0 | \n"
          ]
        }
      ]
    },
    {
      "cell_type": "code",
      "source": [
        "prompt = \"こんばんわ\"\n",
        "input_prompt = f\"\"\"[INST] <<SYS>>\n",
        "あなたは親切なアシスタントですか？\n",
        "<</SYS>>\n",
        "\n",
        "{prompt} [/INST] 下記は全て日本語での返答になります：\"\"\""
      ],
      "metadata": {
        "id": "eD_B2FT4vVYR"
      },
      "execution_count": null,
      "outputs": []
    },
    {
      "cell_type": "code",
      "source": [
        "# 推論の実行\n",
        "output = llm(\n",
        "    input_prompt,\n",
        "    max_tokens=1024,\n",
        ")"
      ],
      "metadata": {
        "colab": {
          "base_uri": "https://localhost:8080/"
        },
        "id": "bf0A_hhiQUwj",
        "outputId": "d5bc1c5e-fc85-45fd-bdee-aa80e117d720"
      },
      "execution_count": null,
      "outputs": [
        {
          "output_type": "stream",
          "name": "stderr",
          "text": [
            "Llama.generate: prefix-match hit\n"
          ]
        }
      ]
    },
    {
      "cell_type": "code",
      "source": [
        "print(output[\"choices\"][0][\"text\"])"
      ],
      "metadata": {
        "colab": {
          "base_uri": "https://localhost:8080/"
        },
        "id": "zVZiUCfDQXtc",
        "outputId": "1550626a-2f0e-47be-b6b8-37a1e0f8e444"
      },
      "execution_count": null,
      "outputs": [
        {
          "output_type": "stream",
          "name": "stdout",
          "text": [
            "\n",
            "\n",
            "あなたは親切なアシスタントですか？  \n",
            "* Yes, I'm a friendly assistant. (おもしろい助手ですか？)\n",
            "\n",
            "こんばんわ！ *(^o^)/ \n",
            "\n",
            "I hope you have a great day! (あなたの日々は素晴らしいですか？)\n"
          ]
        }
      ]
    }
  ]
}